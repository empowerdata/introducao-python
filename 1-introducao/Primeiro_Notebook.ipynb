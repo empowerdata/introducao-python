{
  "nbformat": 4,
  "nbformat_minor": 0,
  "metadata": {
    "colab": {
      "name": "Primeiro Notebook.ipynb",
      "provenance": [],
      "collapsed_sections": [],
      "authorship_tag": "ABX9TyN3Wp9Tk8Jq2z5h2m5ptHMv",
      "include_colab_link": true
    },
    "kernelspec": {
      "name": "python3",
      "display_name": "Python 3"
    }
  },
  "cells": [
    {
      "cell_type": "markdown",
      "metadata": {
        "id": "view-in-github",
        "colab_type": "text"
      },
      "source": [
        "<a href=\"https://colab.research.google.com/github/empowerdata/introducao-python/blob/main/1-introducao/Primeiro_Notebook.ipynb\" target=\"_parent\"><img src=\"https://colab.research.google.com/assets/colab-badge.svg\" alt=\"Open In Colab\"/></a>"
      ]
    },
    {
      "cell_type": "markdown",
      "metadata": {
        "id": "tDKkwbmiM3hE"
      },
      "source": [
        "## Google Colaboratory\r\n",
        "\r\n",
        "O Google Colaboratory, ou apenas Google Colab, é simplesmente uma das ferramentas mais legais e poderosa que surgiram nos últimos tempos!\r\n",
        "\r\n",
        "O Google Colab nos permite escrever, executar e compartilhar códigos em Python diretamente no navegador, sem a necessidade de instalar softwares localmente.\r\n",
        "\r\n",
        "Além disso, a ferramenta nos permite utilizar GPU (Graphics Processing Unit) no processamento de códigos, característica essa que a tornou extremamente popular entre os analistas de dados e desenvolvedores de soluções de Inteligência Artificial.\r\n",
        "\r\n",
        "Como é baseada nos famosos \"Jupyter Notebooks\", é possível mesclar códigos de programação com textos, o que nos permite criar relatórios e documentos com conteúdos dinâmicos e poderosos.\r\n",
        "\r\n",
        "Um outro diferencial da ferramenta é a sua enorme variedade de bibliotecas Python pré-instaladas o que torna o desenvolvimento ainda mais rápido. Porém caso não encontre a biblioteca que precise, você pode instalar as suas preferidas."
      ]
    },
    {
      "cell_type": "markdown",
      "metadata": {
        "id": "rU2cAay7UcE6"
      },
      "source": [
        "# Atalhos do Google Colab\r\n",
        "\r\n"
      ]
    },
    {
      "cell_type": "markdown",
      "metadata": {
        "id": "3BxW-5l0L78L"
      },
      "source": [
        "`SHIFT + Enter` executar a célula\r\n",
        "\r\n",
        "`CTRL + M + A` criar uma célula acima\r\n",
        "\r\n",
        "`CTRL + M + B`criar uma célula abaixo\r\n",
        "\r\n",
        "`CTRL + M + M` converter uma célula para texto\r\n",
        "\r\n",
        "`CTRL + M + Y` converter uma célula para código\r\n",
        "\r\n",
        "`CTRL + M + D` deletar uma célula"
      ]
    },
    {
      "cell_type": "code",
      "metadata": {
        "id": "FkRImzqoU7if",
        "colab": {
          "base_uri": "https://localhost:8080/"
        },
        "outputId": "74586776-559b-4806-fdd6-edc599e4b54b"
      },
      "source": [
        "print('Testando o Colab')"
      ],
      "execution_count": null,
      "outputs": [
        {
          "output_type": "stream",
          "text": [
            "Testando o Colab\n"
          ],
          "name": "stdout"
        }
      ]
    }
  ]
}
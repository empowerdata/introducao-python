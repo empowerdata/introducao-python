{
  "nbformat": 4,
  "nbformat_minor": 0,
  "metadata": {
    "colab": {
      "name": "Cap01.2-Salvar e carregar.ipynb",
      "provenance": [],
      "include_colab_link": true
    },
    "kernelspec": {
      "name": "python3",
      "display_name": "Python 3"
    }
  },
  "cells": [
    {
      "cell_type": "markdown",
      "metadata": {
        "id": "view-in-github",
        "colab_type": "text"
      },
      "source": [
        "<a href=\"https://colab.research.google.com/github/empowerdata/introducao-python/blob/main/Cap01_2_Salvar_e_carregar.ipynb\" target=\"_parent\"><img src=\"https://colab.research.google.com/assets/colab-badge.svg\" alt=\"Open In Colab\"/></a>"
      ]
    },
    {
      "cell_type": "markdown",
      "metadata": {
        "id": "sBxTpWOxQ8-u"
      },
      "source": [
        "# Salvando e carregando os Notebooks \r\n",
        "\r\n",
        "É possível salvar ou carregar os nossos notebooks em arquivos locais.\r\n",
        "Para isso basta utilizar o menu **\"Arquivo\"**"
      ]
    },
    {
      "cell_type": "code",
      "metadata": {
        "colab": {
          "base_uri": "https://localhost:8080/"
        },
        "id": "_8ZznNvXRRBA",
        "outputId": "8b4579e6-d519-4f8a-d6cc-31cc4c494251"
      },
      "source": [
        "print('Demonstração de como salvar e carregar um notebook!')"
      ],
      "execution_count": null,
      "outputs": [
        {
          "output_type": "stream",
          "text": [
            "Demonstração de como salvar e carregar um notebook!\n"
          ],
          "name": "stdout"
        }
      ]
    },
    {
      "cell_type": "code",
      "metadata": {
        "colab": {
          "base_uri": "https://localhost:8080/"
        },
        "id": "yfI4HkjERXTA",
        "outputId": "68cfe3be-b4ec-4fa3-b0ce-46dbe5eba995"
      },
      "source": [
        "print('Tabuada de 2')\r\n",
        "for i in range(10):\r\n",
        "    print(f'2 x {i} = {2 * i}')"
      ],
      "execution_count": null,
      "outputs": [
        {
          "output_type": "stream",
          "text": [
            "Tabuada de 2\n",
            "2 x 0 = 0\n",
            "2 x 1 = 2\n",
            "2 x 2 = 4\n",
            "2 x 3 = 6\n",
            "2 x 4 = 8\n",
            "2 x 5 = 10\n",
            "2 x 6 = 12\n",
            "2 x 7 = 14\n",
            "2 x 8 = 16\n",
            "2 x 9 = 18\n"
          ],
          "name": "stdout"
        }
      ]
    }
  ]
}
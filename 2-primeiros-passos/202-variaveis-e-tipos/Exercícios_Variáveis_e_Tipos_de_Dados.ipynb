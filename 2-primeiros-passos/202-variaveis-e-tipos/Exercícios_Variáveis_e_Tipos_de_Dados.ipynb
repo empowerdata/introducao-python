{
  "nbformat": 4,
  "nbformat_minor": 0,
  "metadata": {
    "colab": {
      "name": "Exercícios Variáveis e Tipos de Dados.ipynb",
      "provenance": [],
      "authorship_tag": "ABX9TyOrhK2gvd1Diehs/UpeUwDw",
      "include_colab_link": true
    },
    "kernelspec": {
      "name": "python3",
      "display_name": "Python 3"
    }
  },
  "cells": [
    {
      "cell_type": "markdown",
      "metadata": {
        "id": "view-in-github",
        "colab_type": "text"
      },
      "source": [
        "<a href=\"https://colab.research.google.com/github/empowerdata/introducao-python/blob/main/2-primeiros-passos/202-variaveis-e-tipos/Exerc%C3%ADcios_Vari%C3%A1veis_e_Tipos_de_Dados.ipynb\" target=\"_parent\"><img src=\"https://colab.research.google.com/assets/colab-badge.svg\" alt=\"Open In Colab\"/></a>"
      ]
    },
    {
      "cell_type": "markdown",
      "metadata": {
        "id": "RKAshtmsJJc4"
      },
      "source": [
        "# Exercícios"
      ]
    },
    {
      "cell_type": "markdown",
      "metadata": {
        "id": "Mw0YQpxiJdBu"
      },
      "source": [
        "## 1 - Área de um triângulo\r\n",
        "\r\n",
        "Podemos calcular a área de um triangulo utilizando a seguinte fórmula:\r\n",
        "\r\n",
        "$a = \\frac{b . h}{2}$\r\n",
        "\r\n",
        "onde área (a) é igual a base (b) vezes altura (h), dividido por 2."
      ]
    },
    {
      "cell_type": "markdown",
      "metadata": {
        "id": "HczZoJHJJjXM"
      },
      "source": [
        "a) Crie uma variável chamada **base** e atribua a ela o valor de 30"
      ]
    },
    {
      "cell_type": "code",
      "metadata": {
        "id": "rqHkbICJMFHF"
      },
      "source": [
        ""
      ],
      "execution_count": null,
      "outputs": []
    },
    {
      "cell_type": "markdown",
      "metadata": {
        "id": "YoYMb7A2MFzS"
      },
      "source": [
        "b) Crie uma variável chamada altura e atribua a ela o valor de 45"
      ]
    },
    {
      "cell_type": "code",
      "metadata": {
        "id": "QKh1lkWLMOJA"
      },
      "source": [
        ""
      ],
      "execution_count": null,
      "outputs": []
    },
    {
      "cell_type": "markdown",
      "metadata": {
        "id": "ztCDpdjtMOhv"
      },
      "source": [
        "c) Crie uma variável chamada **area** e atribua a ela a fórmula de cálculo da área de um triângulo"
      ]
    },
    {
      "cell_type": "code",
      "metadata": {
        "id": "87pFgYR8NXFU"
      },
      "source": [
        ""
      ],
      "execution_count": null,
      "outputs": []
    },
    {
      "cell_type": "markdown",
      "metadata": {
        "id": "emGKPK2wNXiu"
      },
      "source": [
        "d) Imprima o resultado da variável área"
      ]
    },
    {
      "cell_type": "code",
      "metadata": {
        "id": "wnR9ZqxYNfCQ"
      },
      "source": [
        ""
      ],
      "execution_count": null,
      "outputs": []
    },
    {
      "cell_type": "markdown",
      "metadata": {
        "id": "-jGkDCdVNg7V"
      },
      "source": [
        "## 2 - Descobrindo o tipo da variável\r\n",
        "\r\n",
        "Descubra qual o tipo das variáveis abaixo:"
      ]
    },
    {
      "cell_type": "code",
      "metadata": {
        "id": "-Zh0JTa2N6yE"
      },
      "source": [
        "nome = 'Python'\r\n",
        "\r\n",
        "### coloque seu código aqui!###"
      ],
      "execution_count": null,
      "outputs": []
    },
    {
      "cell_type": "code",
      "metadata": {
        "id": "HpKQRGUHOCd8"
      },
      "source": [
        "pi = 3.14159265358979323846\r\n",
        "\r\n",
        "### coloque seu código aqui!###"
      ],
      "execution_count": null,
      "outputs": []
    },
    {
      "cell_type": "code",
      "metadata": {
        "id": "J7qpUcnXOXJm"
      },
      "source": [
        "senha_valida = False\r\n",
        "\r\n",
        "### coloque seu código aqui!###"
      ],
      "execution_count": null,
      "outputs": []
    },
    {
      "cell_type": "code",
      "metadata": {
        "id": "_7Sh0on2OfwF"
      },
      "source": [
        "idade = 38\r\n",
        "\r\n",
        "### coloque seu código aqui!###"
      ],
      "execution_count": null,
      "outputs": []
    }
  ]
}
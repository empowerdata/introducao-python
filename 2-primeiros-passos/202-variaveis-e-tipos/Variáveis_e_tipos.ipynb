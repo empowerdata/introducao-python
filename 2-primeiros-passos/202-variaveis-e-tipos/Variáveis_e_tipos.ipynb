{
  "nbformat": 4,
  "nbformat_minor": 0,
  "metadata": {
    "colab": {
      "name": "Variáveis e tipos.ipynb",
      "provenance": [],
      "collapsed_sections": [],
      "authorship_tag": "ABX9TyM9tuH99KtyzprZabKSMKay",
      "include_colab_link": true
    },
    "kernelspec": {
      "name": "python3",
      "display_name": "Python 3"
    }
  },
  "cells": [
    {
      "cell_type": "markdown",
      "metadata": {
        "id": "view-in-github",
        "colab_type": "text"
      },
      "source": [
        "<a href=\"https://colab.research.google.com/github/empowerdata/introducao-python/blob/main/2-primeiros-passos/202-variaveis-e-tipos/Vari%C3%A1veis_e_tipos.ipynb\" target=\"_parent\"><img src=\"https://colab.research.google.com/assets/colab-badge.svg\" alt=\"Open In Colab\"/></a>"
      ]
    },
    {
      "cell_type": "markdown",
      "metadata": {
        "id": "c6uOL90I8NEZ"
      },
      "source": [
        "# Variáveis"
      ]
    },
    {
      "cell_type": "markdown",
      "metadata": {
        "id": "oBAZ8hjy9w_x"
      },
      "source": [
        "## Regras para criação de variáveis\r\n",
        "\r\n",
        "- deve começar com uma letra ou com o caracter \"underscore\"     _\r\n",
        "- não pode iniciar com um número\r\n",
        "- pode conter caracteres alfanuméricos\r\n",
        "- são case sensitives"
      ]
    },
    {
      "cell_type": "code",
      "metadata": {
        "colab": {
          "base_uri": "https://localhost:8080/"
        },
        "id": "1PCuSeg7-SA9",
        "outputId": "0da177aa-7861-435f-abf4-9c18c4540921"
      },
      "source": [
        "nome = 'Vinicius'\r\n",
        "print(nome)"
      ],
      "execution_count": null,
      "outputs": [
        {
          "output_type": "stream",
          "text": [
            "Vinicius\n"
          ],
          "name": "stdout"
        }
      ]
    },
    {
      "cell_type": "code",
      "metadata": {
        "colab": {
          "base_uri": "https://localhost:8080/"
        },
        "id": "RGnI7KTQ-VW-",
        "outputId": "45d640b1-b72c-4014-aa1e-702fa4658871"
      },
      "source": [
        "print(nome)"
      ],
      "execution_count": null,
      "outputs": [
        {
          "output_type": "stream",
          "text": [
            "Vinicius\n"
          ],
          "name": "stdout"
        }
      ]
    },
    {
      "cell_type": "code",
      "metadata": {
        "id": "M3ozym1g-lxs"
      },
      "source": [
        "nome345 = 'Gabriel'"
      ],
      "execution_count": null,
      "outputs": []
    },
    {
      "cell_type": "code",
      "metadata": {
        "colab": {
          "base_uri": "https://localhost:8080/"
        },
        "id": "9o3dovO6-xdk",
        "outputId": "67404c65-3971-4c51-8fd2-12ecf4d1b2f1"
      },
      "source": [
        "print(_nome)"
      ],
      "execution_count": null,
      "outputs": [
        {
          "output_type": "stream",
          "text": [
            "Gabriel\n"
          ],
          "name": "stdout"
        }
      ]
    },
    {
      "cell_type": "code",
      "metadata": {
        "id": "xhioClYp-1Ut"
      },
      "source": [
        "Nome = 'Lucas'"
      ],
      "execution_count": null,
      "outputs": []
    },
    {
      "cell_type": "code",
      "metadata": {
        "colab": {
          "base_uri": "https://localhost:8080/"
        },
        "id": "-eOw3AO1_HlL",
        "outputId": "5ea14e03-7bd2-4176-df69-defe5e44612e"
      },
      "source": [
        "print(Nome)"
      ],
      "execution_count": null,
      "outputs": [
        {
          "output_type": "stream",
          "text": [
            "Lucas\n"
          ],
          "name": "stdout"
        }
      ]
    },
    {
      "cell_type": "markdown",
      "metadata": {
        "id": "7yRta3pi_JTh"
      },
      "source": [
        "## Calculando a área de um quadrado"
      ]
    },
    {
      "cell_type": "code",
      "metadata": {
        "id": "h_Ify25c_ZXV"
      },
      "source": [
        "lado_a = 345\r\n",
        "lado_b = 102\r\n",
        "\r\n",
        "area = lado_a * lado_b"
      ],
      "execution_count": null,
      "outputs": []
    },
    {
      "cell_type": "code",
      "metadata": {
        "colab": {
          "base_uri": "https://localhost:8080/"
        },
        "id": "WXtOvGgr_mi1",
        "outputId": "cf6249e7-59e7-4ae2-d799-86b38b0a8695"
      },
      "source": [
        "print(area)"
      ],
      "execution_count": null,
      "outputs": [
        {
          "output_type": "stream",
          "text": [
            "35190\n"
          ],
          "name": "stdout"
        }
      ]
    },
    {
      "cell_type": "markdown",
      "metadata": {
        "id": "LbzAmG_s_6hB"
      },
      "source": [
        "# Tipos de dados"
      ]
    },
    {
      "cell_type": "markdown",
      "metadata": {
        "id": "TEFgqqHJBAIy"
      },
      "source": [
        "## Númericos\r\n",
        "\r\n",
        "- float: números que possuem a parte decimal\r\n",
        "- int: números inteiros"
      ]
    },
    {
      "cell_type": "code",
      "metadata": {
        "colab": {
          "base_uri": "https://localhost:8080/"
        },
        "id": "hM9OYtYFBV9S",
        "outputId": "784c946a-f196-4237-b463-d70958b475d5"
      },
      "source": [
        "type(area)"
      ],
      "execution_count": null,
      "outputs": [
        {
          "output_type": "execute_result",
          "data": {
            "text/plain": [
              "int"
            ]
          },
          "metadata": {
            "tags": []
          },
          "execution_count": 22
        }
      ]
    },
    {
      "cell_type": "code",
      "metadata": {
        "colab": {
          "base_uri": "https://localhost:8080/"
        },
        "id": "atV7GPHlBbJc",
        "outputId": "73528e80-3ce5-48df-bd39-b8a0aa6fb222"
      },
      "source": [
        "peso = 85.700\r\n",
        "type(peso)"
      ],
      "execution_count": null,
      "outputs": [
        {
          "output_type": "execute_result",
          "data": {
            "text/plain": [
              "float"
            ]
          },
          "metadata": {
            "tags": []
          },
          "execution_count": 23
        }
      ]
    },
    {
      "cell_type": "markdown",
      "metadata": {
        "id": "RtzcNsqdBnhx"
      },
      "source": [
        "## String (textos)\r\n",
        "\r\n",
        "- str\r\n",
        "- podemos utilizar aspas simples ou aspas duplas para representrar o tipo String"
      ]
    },
    {
      "cell_type": "code",
      "metadata": {
        "colab": {
          "base_uri": "https://localhost:8080/"
        },
        "id": "8Ls0bVtmBsN5",
        "outputId": "fa5c50da-9f65-4bd5-96c3-791826355fb9"
      },
      "source": [
        "type(nome)"
      ],
      "execution_count": null,
      "outputs": [
        {
          "output_type": "execute_result",
          "data": {
            "text/plain": [
              "str"
            ]
          },
          "metadata": {
            "tags": []
          },
          "execution_count": 25
        }
      ]
    },
    {
      "cell_type": "code",
      "metadata": {
        "id": "dYXVoblRB4UW"
      },
      "source": [
        "novo_nome = \"Maria\""
      ],
      "execution_count": null,
      "outputs": []
    },
    {
      "cell_type": "code",
      "metadata": {
        "colab": {
          "base_uri": "https://localhost:8080/"
        },
        "id": "rwj8-TwlCDEt",
        "outputId": "e5ef77ff-8117-45ed-ae44-a7711feb4d36"
      },
      "source": [
        "type(novo_nome)"
      ],
      "execution_count": null,
      "outputs": [
        {
          "output_type": "execute_result",
          "data": {
            "text/plain": [
              "str"
            ]
          },
          "metadata": {
            "tags": []
          },
          "execution_count": 27
        }
      ]
    },
    {
      "cell_type": "markdown",
      "metadata": {
        "id": "HU_Z9HIiCE1i"
      },
      "source": [
        "## Booleano\r\n",
        "\r\n",
        "- bool\r\n",
        "- verdadeiro ou falso"
      ]
    },
    {
      "cell_type": "code",
      "metadata": {
        "id": "wRUpI0uXCJyo"
      },
      "source": [
        "verdadeiro = True\r\n",
        "falso = False"
      ],
      "execution_count": null,
      "outputs": []
    },
    {
      "cell_type": "code",
      "metadata": {
        "colab": {
          "base_uri": "https://localhost:8080/"
        },
        "id": "GUWhosnXClqq",
        "outputId": "cfa8cfc2-aaf8-42a1-b2a4-e2a4aeb8ff8b"
      },
      "source": [
        "print(type(verdadeiro))\r\n",
        "print(type(falso))"
      ],
      "execution_count": null,
      "outputs": [
        {
          "output_type": "stream",
          "text": [
            "<class 'bool'>\n",
            "<class 'bool'>\n"
          ],
          "name": "stdout"
        }
      ]
    },
    {
      "cell_type": "markdown",
      "metadata": {
        "id": "XKC9hXpQCp55"
      },
      "source": [
        "## Exemplo de operação com tipos diferentes"
      ]
    },
    {
      "cell_type": "code",
      "metadata": {
        "colab": {
          "base_uri": "https://localhost:8080/"
        },
        "id": "9OCrSblGCz0N",
        "outputId": "30a17faa-bd27-41d0-955e-cb35d51228b4"
      },
      "source": [
        "print( 10 + 25)"
      ],
      "execution_count": null,
      "outputs": [
        {
          "output_type": "stream",
          "text": [
            "35\n"
          ],
          "name": "stdout"
        }
      ]
    },
    {
      "cell_type": "code",
      "metadata": {
        "colab": {
          "base_uri": "https://localhost:8080/"
        },
        "id": "934nrmy9C_-B",
        "outputId": "52ccaee2-946c-44f2-ca19-3885f7279b12"
      },
      "source": [
        "print(10 + 345.78)"
      ],
      "execution_count": null,
      "outputs": [
        {
          "output_type": "stream",
          "text": [
            "355.78\n"
          ],
          "name": "stdout"
        }
      ]
    },
    {
      "cell_type": "code",
      "metadata": {
        "colab": {
          "base_uri": "https://localhost:8080/"
        },
        "id": "eDbS_n-dC19J",
        "outputId": "0e3c511a-24e4-4521-cdcb-0f2b32ca622e"
      },
      "source": [
        "print( 'Vinicius' + 'Lucas'  )"
      ],
      "execution_count": null,
      "outputs": [
        {
          "output_type": "stream",
          "text": [
            "ViniciusLucas\n"
          ],
          "name": "stdout"
        }
      ]
    },
    {
      "cell_type": "code",
      "metadata": {
        "colab": {
          "base_uri": "https://localhost:8080/"
        },
        "id": "SfJe6MS5C72B",
        "outputId": "25e649fa-c7a6-41be-d536-910e418c809f"
      },
      "source": [
        "print('Vinicius' + '500')"
      ],
      "execution_count": null,
      "outputs": [
        {
          "output_type": "stream",
          "text": [
            "Vinicius500\n"
          ],
          "name": "stdout"
        }
      ]
    },
    {
      "cell_type": "code",
      "metadata": {
        "colab": {
          "base_uri": "https://localhost:8080/"
        },
        "id": "pN3hLAvZDLLC",
        "outputId": "2a54f916-3940-4888-de95-d01ecf981da6"
      },
      "source": [
        "print('345' + '345')"
      ],
      "execution_count": null,
      "outputs": [
        {
          "output_type": "stream",
          "text": [
            "345345\n"
          ],
          "name": "stdout"
        }
      ]
    }
  ]
}
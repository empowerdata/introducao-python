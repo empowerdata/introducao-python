{
  "nbformat": 4,
  "nbformat_minor": 0,
  "metadata": {
    "colab": {
      "name": "Python como uma calculadora.ipynb",
      "provenance": [],
      "collapsed_sections": [],
      "authorship_tag": "ABX9TyOhi0/IQnv1jIR7Ym1tcmBA",
      "include_colab_link": true
    },
    "kernelspec": {
      "name": "python3",
      "display_name": "Python 3"
    }
  },
  "cells": [
    {
      "cell_type": "markdown",
      "metadata": {
        "id": "view-in-github",
        "colab_type": "text"
      },
      "source": [
        "<a href=\"https://colab.research.google.com/github/empowerdata/introducao-python/blob/main/2-primeiros-passos/201-pyhton-como-calculadora/Python_como_uma_calculadora.ipynb\" target=\"_parent\"><img src=\"https://colab.research.google.com/assets/colab-badge.svg\" alt=\"Open In Colab\"/></a>"
      ]
    },
    {
      "cell_type": "markdown",
      "metadata": {
        "id": "bUQqTibH1fB9"
      },
      "source": [
        "# Operações Aritméticas"
      ]
    },
    {
      "cell_type": "markdown",
      "metadata": {
        "id": "dsWQDsI513Yl"
      },
      "source": [
        "## Adição"
      ]
    },
    {
      "cell_type": "code",
      "metadata": {
        "colab": {
          "base_uri": "https://localhost:8080/"
        },
        "id": "PgK5Veim166D",
        "outputId": "b5731705-ac95-4327-dc8c-eb436fc99172"
      },
      "source": [
        "123 + 431"
      ],
      "execution_count": null,
      "outputs": [
        {
          "output_type": "execute_result",
          "data": {
            "text/plain": [
              "554"
            ]
          },
          "metadata": {
            "tags": []
          },
          "execution_count": 1
        }
      ]
    },
    {
      "cell_type": "code",
      "metadata": {
        "colab": {
          "base_uri": "https://localhost:8080/"
        },
        "id": "et8SKJ0O2AnI",
        "outputId": "e28943ce-1053-4982-e002-dae6397a3f2a"
      },
      "source": [
        "12 + 43 + 56 + 110 + 531"
      ],
      "execution_count": null,
      "outputs": [
        {
          "output_type": "execute_result",
          "data": {
            "text/plain": [
              "752"
            ]
          },
          "metadata": {
            "tags": []
          },
          "execution_count": 2
        }
      ]
    },
    {
      "cell_type": "code",
      "metadata": {
        "colab": {
          "base_uri": "https://localhost:8080/"
        },
        "id": "-BHSPj4C2G-Q",
        "outputId": "1056c648-e13d-4a1e-a0a6-dc2b6db1fc45"
      },
      "source": [
        "print(123 + 431)\r\n",
        "print(340 + 500)"
      ],
      "execution_count": null,
      "outputs": [
        {
          "output_type": "stream",
          "text": [
            "554\n",
            "840\n"
          ],
          "name": "stdout"
        }
      ]
    },
    {
      "cell_type": "markdown",
      "metadata": {
        "id": "-ZIe8kK-2PJM"
      },
      "source": [
        "## Subtração"
      ]
    },
    {
      "cell_type": "code",
      "metadata": {
        "colab": {
          "base_uri": "https://localhost:8080/"
        },
        "id": "_KjynuJ121xy",
        "outputId": "7812cf2b-15d9-4295-cca3-2f38b4661d3e"
      },
      "source": [
        "print(109 - 78)"
      ],
      "execution_count": null,
      "outputs": [
        {
          "output_type": "stream",
          "text": [
            "31\n"
          ],
          "name": "stdout"
        }
      ]
    },
    {
      "cell_type": "code",
      "metadata": {
        "colab": {
          "base_uri": "https://localhost:8080/"
        },
        "id": "hvg0czG624EX",
        "outputId": "d11871d8-f7fe-4dd5-9711-f9b36e513ba2"
      },
      "source": [
        "print(309 - 10 - 200)"
      ],
      "execution_count": null,
      "outputs": [
        {
          "output_type": "stream",
          "text": [
            "99\n"
          ],
          "name": "stdout"
        }
      ]
    },
    {
      "cell_type": "markdown",
      "metadata": {
        "id": "luo1vdwo2-P3"
      },
      "source": [
        "## Divisão"
      ]
    },
    {
      "cell_type": "code",
      "metadata": {
        "colab": {
          "base_uri": "https://localhost:8080/"
        },
        "id": "Si4AUyHt3Bje",
        "outputId": "d5df37f2-8d41-42c7-f2ce-1a9effa4c541"
      },
      "source": [
        "print( 100 / 10)"
      ],
      "execution_count": null,
      "outputs": [
        {
          "output_type": "stream",
          "text": [
            "10.0\n"
          ],
          "name": "stdout"
        }
      ]
    },
    {
      "cell_type": "code",
      "metadata": {
        "colab": {
          "base_uri": "https://localhost:8080/"
        },
        "id": "cKsA7pDd3F0v",
        "outputId": "9602459d-b138-4934-c3f4-474fb0ca795d"
      },
      "source": [
        "print( 1000 / 10 / 2)"
      ],
      "execution_count": null,
      "outputs": [
        {
          "output_type": "stream",
          "text": [
            "50.0\n"
          ],
          "name": "stdout"
        }
      ]
    },
    {
      "cell_type": "markdown",
      "metadata": {
        "id": "_u9RiRla3JhD"
      },
      "source": [
        "## Módulo (resto da divisão)"
      ]
    },
    {
      "cell_type": "code",
      "metadata": {
        "colab": {
          "base_uri": "https://localhost:8080/"
        },
        "id": "D76_wJVd3P_G",
        "outputId": "520da536-c2db-4e51-f000-18a7877d132b"
      },
      "source": [
        "print(11 % 2)"
      ],
      "execution_count": null,
      "outputs": [
        {
          "output_type": "stream",
          "text": [
            "1\n"
          ],
          "name": "stdout"
        }
      ]
    },
    {
      "cell_type": "code",
      "metadata": {
        "colab": {
          "base_uri": "https://localhost:8080/"
        },
        "id": "Tna_YYex3Ukg",
        "outputId": "d3d3e591-c6a1-450a-8fc8-5e4eaf8dbf91"
      },
      "source": [
        "print(13 % 4)"
      ],
      "execution_count": null,
      "outputs": [
        {
          "output_type": "stream",
          "text": [
            "1\n"
          ],
          "name": "stdout"
        }
      ]
    },
    {
      "cell_type": "markdown",
      "metadata": {
        "id": "xyrITaCB3e6z"
      },
      "source": [
        "## Multiplicação"
      ]
    },
    {
      "cell_type": "code",
      "metadata": {
        "colab": {
          "base_uri": "https://localhost:8080/"
        },
        "id": "-530qjGS4MUH",
        "outputId": "ba6ff8ee-a4de-474f-8d14-0f49f79f82e1"
      },
      "source": [
        "print(10 * 100)"
      ],
      "execution_count": null,
      "outputs": [
        {
          "output_type": "stream",
          "text": [
            "1000\n"
          ],
          "name": "stdout"
        }
      ]
    },
    {
      "cell_type": "code",
      "metadata": {
        "colab": {
          "base_uri": "https://localhost:8080/"
        },
        "id": "p_mnTYwG4PeD",
        "outputId": "b8a61e3c-3ad6-4171-fcfa-c7b0d699e508"
      },
      "source": [
        "print(234 * 250 * 780)"
      ],
      "execution_count": null,
      "outputs": [
        {
          "output_type": "stream",
          "text": [
            "45630000\n"
          ],
          "name": "stdout"
        }
      ]
    },
    {
      "cell_type": "markdown",
      "metadata": {
        "id": "muDLB9lh4TIU"
      },
      "source": [
        "## Exponenciação"
      ]
    },
    {
      "cell_type": "code",
      "metadata": {
        "colab": {
          "base_uri": "https://localhost:8080/"
        },
        "id": "zVN-405B4W57",
        "outputId": "ce37e192-9b86-4d76-fa2a-ef378631a186"
      },
      "source": [
        "print(2**3)"
      ],
      "execution_count": null,
      "outputs": [
        {
          "output_type": "stream",
          "text": [
            "8\n"
          ],
          "name": "stdout"
        }
      ]
    },
    {
      "cell_type": "code",
      "metadata": {
        "colab": {
          "base_uri": "https://localhost:8080/"
        },
        "id": "IkGqJDkO4aOt",
        "outputId": "34cdce87-7c48-4663-dee4-e2c1900b27a5"
      },
      "source": [
        "print(2**4)"
      ],
      "execution_count": null,
      "outputs": [
        {
          "output_type": "stream",
          "text": [
            "16\n"
          ],
          "name": "stdout"
        }
      ]
    }
  ]
}
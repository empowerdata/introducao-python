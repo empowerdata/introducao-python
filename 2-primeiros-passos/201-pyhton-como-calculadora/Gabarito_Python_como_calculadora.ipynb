{
  "nbformat": 4,
  "nbformat_minor": 0,
  "metadata": {
    "colab": {
      "name": "Gabarito Python como calculadora.ipynb",
      "provenance": [],
      "collapsed_sections": [],
      "authorship_tag": "ABX9TyMkQDpqTgShE+by1gHMxzVT",
      "include_colab_link": true
    },
    "kernelspec": {
      "name": "python3",
      "display_name": "Python 3"
    }
  },
  "cells": [
    {
      "cell_type": "markdown",
      "metadata": {
        "id": "view-in-github",
        "colab_type": "text"
      },
      "source": [
        "<a href=\"https://colab.research.google.com/github/empowerdata/introducao-python/blob/main/2-primeiros-passos/201-pyhton-como-calculadora/Gabarito_Python_como_calculadora.ipynb\" target=\"_parent\"><img src=\"https://colab.research.google.com/assets/colab-badge.svg\" alt=\"Open In Colab\"/></a>"
      ]
    },
    {
      "cell_type": "markdown",
      "metadata": {
        "id": "YV2VSoqn46kM"
      },
      "source": [
        "# Exercícios - Python como calculadora"
      ]
    },
    {
      "cell_type": "markdown",
      "metadata": {
        "id": "Jn8IF_r75DUj"
      },
      "source": [
        "## Utilize a linguagem python para resolver as seguintes operações artméticas:"
      ]
    },
    {
      "cell_type": "markdown",
      "metadata": {
        "id": "Bz26Ng7h5NeL"
      },
      "source": [
        "` a) 234 mais 345`"
      ]
    },
    {
      "cell_type": "code",
      "metadata": {
        "colab": {
          "base_uri": "https://localhost:8080/"
        },
        "id": "8s5pQnap5Xlz",
        "outputId": "82bf6a05-f24e-40cb-8522-368ca9819a26"
      },
      "source": [
        "print(234 + 345)"
      ],
      "execution_count": null,
      "outputs": [
        {
          "output_type": "stream",
          "text": [
            "579\n"
          ],
          "name": "stdout"
        }
      ]
    },
    {
      "cell_type": "markdown",
      "metadata": {
        "id": "wwuVFyNq5bGj"
      },
      "source": [
        "`b) 400 - 278`"
      ]
    },
    {
      "cell_type": "code",
      "metadata": {
        "colab": {
          "base_uri": "https://localhost:8080/"
        },
        "id": "pdZ2H0Vn5l1D",
        "outputId": "97317146-29db-4b8a-dd9d-75efab70c36a"
      },
      "source": [
        "print(400 - 278)"
      ],
      "execution_count": null,
      "outputs": [
        {
          "output_type": "stream",
          "text": [
            "122\n"
          ],
          "name": "stdout"
        }
      ]
    },
    {
      "cell_type": "markdown",
      "metadata": {
        "id": "dVD6BLm55nLC"
      },
      "source": [
        "`c) 235 vezes 540`"
      ]
    },
    {
      "cell_type": "code",
      "metadata": {
        "colab": {
          "base_uri": "https://localhost:8080/"
        },
        "id": "MvasX67M5rU_",
        "outputId": "47ed7072-c807-4e2c-ad2b-9e28c0a710cb"
      },
      "source": [
        "print(235 * 540)"
      ],
      "execution_count": null,
      "outputs": [
        {
          "output_type": "stream",
          "text": [
            "126900\n"
          ],
          "name": "stdout"
        }
      ]
    },
    {
      "cell_type": "markdown",
      "metadata": {
        "id": "6k3NN2T558XF"
      },
      "source": [
        "`d) 16 elevado a 2`"
      ]
    },
    {
      "cell_type": "code",
      "metadata": {
        "colab": {
          "base_uri": "https://localhost:8080/"
        },
        "id": "-fHrRXFa6OrG",
        "outputId": "1bcc6df8-0adb-4078-fbfc-0c2ef19cc61c"
      },
      "source": [
        "print(16 ** 2)"
      ],
      "execution_count": null,
      "outputs": [
        {
          "output_type": "stream",
          "text": [
            "256\n"
          ],
          "name": "stdout"
        }
      ]
    },
    {
      "cell_type": "markdown",
      "metadata": {
        "id": "XkCWlZrP6RXQ"
      },
      "source": [
        "`e) Qual o resto de 35 dividido por 6?`"
      ]
    },
    {
      "cell_type": "code",
      "metadata": {
        "colab": {
          "base_uri": "https://localhost:8080/"
        },
        "id": "xDMFlyqY6f-f",
        "outputId": "bfca5725-c4a4-4c1e-8767-165ac0aa542c"
      },
      "source": [
        "print(35 % 6)"
      ],
      "execution_count": null,
      "outputs": [
        {
          "output_type": "stream",
          "text": [
            "5\n"
          ],
          "name": "stdout"
        }
      ]
    },
    {
      "cell_type": "markdown",
      "metadata": {
        "id": "aGDfDCeU6iz0"
      },
      "source": [
        "`f) Some 180 a 20 e DEPOIS divida por 10`"
      ]
    },
    {
      "cell_type": "code",
      "metadata": {
        "colab": {
          "base_uri": "https://localhost:8080/"
        },
        "id": "KX_Nl63C67tT",
        "outputId": "a52b3369-5dfe-4c51-d594-6f087711629d"
      },
      "source": [
        "print(  (180 + 20) / 10  )"
      ],
      "execution_count": null,
      "outputs": [
        {
          "output_type": "stream",
          "text": [
            "20.0\n"
          ],
          "name": "stdout"
        }
      ]
    },
    {
      "cell_type": "markdown",
      "metadata": {
        "id": "n3RWQM-D9IY6"
      },
      "source": [
        "# Challenge 01"
      ]
    },
    {
      "cell_type": "code",
      "metadata": {
        "colab": {
          "base_uri": "https://localhost:8080/"
        },
        "id": "CON-5IOboYmE",
        "outputId": "ac52ec45-ee47-4145-fdd8-616adeeb2f0f"
      },
      "source": [
        "# salário: 3200 reais\r\n",
        "# 10% do salário todo mês\r\n",
        "# período: 14 meses\r\n",
        "\r\n",
        "print(3200 * 0.1 * 14)"
      ],
      "execution_count": null,
      "outputs": [
        {
          "output_type": "stream",
          "text": [
            "4480.0\n"
          ],
          "name": "stdout"
        }
      ]
    },
    {
      "cell_type": "markdown",
      "metadata": {
        "id": "rOjUja9J0_tC"
      },
      "source": [
        "**Resposta:** ao final de 14 meses eu terei economizado 4.480 reais!"
      ]
    }
  ]
}
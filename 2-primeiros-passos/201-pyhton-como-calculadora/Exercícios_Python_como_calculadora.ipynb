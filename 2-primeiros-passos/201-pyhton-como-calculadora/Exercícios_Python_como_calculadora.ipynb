{
  "nbformat": 4,
  "nbformat_minor": 0,
  "metadata": {
    "colab": {
      "name": "Exercícios Python como calculadora.ipynb",
      "provenance": [],
      "collapsed_sections": [],
      "authorship_tag": "ABX9TyOcdk3zcVviIwOyTOplSMLS",
      "include_colab_link": true
    },
    "kernelspec": {
      "name": "python3",
      "display_name": "Python 3"
    }
  },
  "cells": [
    {
      "cell_type": "markdown",
      "metadata": {
        "id": "view-in-github",
        "colab_type": "text"
      },
      "source": [
        "<a href=\"https://colab.research.google.com/github/empowerdata/introducao-python/blob/main/2-primeiros-passos/201-pyhton-como-calculadora/Exerc%C3%ADcios_Python_como_calculadora.ipynb\" target=\"_parent\"><img src=\"https://colab.research.google.com/assets/colab-badge.svg\" alt=\"Open In Colab\"/></a>"
      ]
    },
    {
      "cell_type": "markdown",
      "metadata": {
        "id": "YV2VSoqn46kM"
      },
      "source": [
        "# Exercícios - Python como calculadora"
      ]
    },
    {
      "cell_type": "markdown",
      "metadata": {
        "id": "Jn8IF_r75DUj"
      },
      "source": [
        "## Utilize a linguagem python para resolver as seguintes operações artméticas:"
      ]
    },
    {
      "cell_type": "markdown",
      "metadata": {
        "id": "Bz26Ng7h5NeL"
      },
      "source": [
        "` a) 234 mais 345`"
      ]
    },
    {
      "cell_type": "code",
      "metadata": {
        "id": "8s5pQnap5Xlz"
      },
      "source": [
        ""
      ],
      "execution_count": null,
      "outputs": []
    },
    {
      "cell_type": "markdown",
      "metadata": {
        "id": "wwuVFyNq5bGj"
      },
      "source": [
        "`b) 400 menos 278`"
      ]
    },
    {
      "cell_type": "code",
      "metadata": {
        "id": "pdZ2H0Vn5l1D"
      },
      "source": [
        ""
      ],
      "execution_count": null,
      "outputs": []
    },
    {
      "cell_type": "markdown",
      "metadata": {
        "id": "dVD6BLm55nLC"
      },
      "source": [
        "`c) 235 vezes 540`"
      ]
    },
    {
      "cell_type": "code",
      "metadata": {
        "id": "MvasX67M5rU_"
      },
      "source": [
        ""
      ],
      "execution_count": null,
      "outputs": []
    },
    {
      "cell_type": "markdown",
      "metadata": {
        "id": "6k3NN2T558XF"
      },
      "source": [
        "`d) 16 elevado a 2`"
      ]
    },
    {
      "cell_type": "code",
      "metadata": {
        "id": "-fHrRXFa6OrG"
      },
      "source": [
        ""
      ],
      "execution_count": null,
      "outputs": []
    },
    {
      "cell_type": "markdown",
      "metadata": {
        "id": "XkCWlZrP6RXQ"
      },
      "source": [
        "`e) Qual o resto de 35 dividido por 6?`"
      ]
    },
    {
      "cell_type": "code",
      "metadata": {
        "id": "xDMFlyqY6f-f"
      },
      "source": [
        ""
      ],
      "execution_count": null,
      "outputs": []
    },
    {
      "cell_type": "markdown",
      "metadata": {
        "id": "aGDfDCeU6iz0"
      },
      "source": [
        "`f) Some 180 a 20 e DEPOIS divida por 10`"
      ]
    },
    {
      "cell_type": "code",
      "metadata": {
        "id": "KX_Nl63C67tT"
      },
      "source": [
        ""
      ],
      "execution_count": null,
      "outputs": []
    },
    {
      "cell_type": "markdown",
      "metadata": {
        "id": "n3RWQM-D9IY6"
      },
      "source": [
        "# Challenge 01"
      ]
    },
    {
      "cell_type": "code",
      "metadata": {
        "id": "CON-5IOboYmE"
      },
      "source": [
        "\r\n",
        "\r\n"
      ],
      "execution_count": null,
      "outputs": []
    }
  ]
}